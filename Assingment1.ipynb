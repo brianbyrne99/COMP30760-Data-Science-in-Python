{
 "cells": [
  {
   "cell_type": "code",
   "execution_count": 33,
   "metadata": {},
   "outputs": [],
   "source": [
    "import requests"
   ]
  },
  {
   "cell_type": "code",
   "execution_count": 34,
   "metadata": {},
   "outputs": [],
   "source": [
    "import base64"
   ]
  },
  {
   "cell_type": "code",
   "execution_count": 35,
   "metadata": {},
   "outputs": [],
   "source": [
    "spotify_client_id = 'a0e8b434f2204228884232bafdaec9ac'\n",
    "spotify_client_secret = 'cdea33adcab84acfa56a7885fcae284a'"
   ]
  },
  {
   "cell_type": "code",
   "execution_count": 36,
   "metadata": {},
   "outputs": [
    {
     "data": {
      "text/plain": [
       "str"
      ]
     },
     "execution_count": 36,
     "metadata": {},
     "output_type": "execute_result"
    }
   ],
   "source": [
    "logins= f\"{spotify_client_id}:{spotify_client_secret}\"\n",
    "type(logins)"
   ]
  },
  {
   "cell_type": "code",
   "execution_count": 37,
   "metadata": {},
   "outputs": [
    {
     "data": {
      "text/plain": [
       "bytes"
      ]
     },
     "execution_count": 37,
     "metadata": {},
     "output_type": "execute_result"
    }
   ],
   "source": [
    "logins_base64 = base64.b64encode(logins.encode())\n",
    "type(logins_base64)\n",
    "#print(logins_base64)"
   ]
  },
  {
   "cell_type": "code",
   "execution_count": 38,
   "metadata": {},
   "outputs": [],
   "source": [
    "token_url=\"https://accounts.spotify.com/api/token\"\n",
    "token_parameter= {\n",
    "    \"grant_type\" : \"client_credentials\"\n",
    "}\n",
    "\n",
    "auth={         #Basic <base64 encoded client_id:client_secret> \n",
    "    \"Authorization\": f\"Basic {logins_base64.decode()} \"\n",
    "}\n",
    "#auth"
   ]
  },
  {
   "cell_type": "code",
   "execution_count": 39,
   "metadata": {
    "scrolled": true
   },
   "outputs": [
    {
     "name": "stdout",
     "output_type": "stream",
     "text": [
      "{'access_token': 'BQCruv2C0xqd6tGWH3JAWEDti3dzJr5QNivr5XmRc0KWKG_K19uTR6tqlt99qNxXxmP5AJ8a26J0v90Tihk', 'token_type': 'Bearer', 'expires_in': 3600, 'scope': ''}\n",
      "BQCruv2C0xqd6tGWH3JAWEDti3dzJr5QNivr5XmRc0KWKG_K19uTR6tqlt99qNxXxmP5AJ8a26J0v90Tihk\n"
     ]
    }
   ],
   "source": [
    "token_req = requests.post(token_url, data=token_parameter, headers=auth)\n",
    "#token_req.json()\n",
    "token_data=token_req.json()\n",
    "print(token_data)\n",
    "token_key=token_data['access_token']\n",
    "print(token_key)\n",
    "\n",
    "##All Good"
   ]
  },
  {
   "cell_type": "code",
   "execution_count": 43,
   "metadata": {},
   "outputs": [
    {
     "name": "stdout",
     "output_type": "stream",
     "text": [
      "{'external_urls': {'spotify': 'https://open.spotify.com/artist/0OdUWJ0sBjDrqHygGUXeCF'}, 'followers': {'href': None, 'total': 832505}, 'genres': ['indie folk', 'indie pop', 'indie rock', 'modern rock', 'stomp and holler'], 'href': 'https://api.spotify.com/v1/artists/0OdUWJ0sBjDrqHygGUXeCF', 'id': '0OdUWJ0sBjDrqHygGUXeCF', 'images': [{'height': 640, 'url': 'https://i.scdn.co/image/0f9a5013134de288af7d49a962417f4200539b47', 'width': 640}, {'height': 320, 'url': 'https://i.scdn.co/image/8ae35be1043f330173de198c35a49161337e829c', 'width': 320}, {'height': 160, 'url': 'https://i.scdn.co/image/602dd7b3a2ee3f3fd86c6c4f50ab9b5a82e23c59', 'width': 160}], 'name': 'Band of Horses', 'popularity': 65, 'type': 'artist', 'uri': 'spotify:artist:0OdUWJ0sBjDrqHygGUXeCF'}\n"
     ]
    }
   ],
   "source": [
    "spot_url = 'https://api.spotify.com/v1/artists/0OdUWJ0sBjDrqHygGUXeCF'\n",
    "headers = {'content-type': 'application/json', 'Accept-Charset': 'UTF-8', 'Authorization': f'Bearer {token_key}'}\n",
    "\n",
    "r = requests.get(spot_url, headers=headers)\n",
    "\n",
    "spotify_json=r.json()\n",
    "print(spotify_json)"
   ]
  },
  {
   "cell_type": "code",
   "execution_count": 44,
   "metadata": {},
   "outputs": [],
   "source": [
    "ticketmaster_client_id = '0YVUP40qqFSk2fwRtERC1kesKAmwTgXs'\n",
    "ticketmaster_client_secret = '7AWfAnTAAztG9OwA'\n",
    "tick_logins = f\"{ticketmaster_client_id}:{ticketmaster_client_secret}\"\n",
    "my_key = '0YVUP40qqFSk2fwRtERC1kesKAmwTgXs'"
   ]
  },
  {
   "cell_type": "code",
   "execution_count": 45,
   "metadata": {},
   "outputs": [
    {
     "name": "stdout",
     "output_type": "stream",
     "text": [
      "https://app.ticketmaster.com/discovery/v2/events.json?size=1&apikey=0YVUP40qqFSk2fwRtERC1kesKAmwTgXs\n",
      "200\n",
      "{'_embedded': {'events': [{'name': 'Carolina Panthers vs. Atlanta Falcons', 'type': 'event', 'id': 'G5eVZp83Re-qw', 'test': False, 'url': 'https://www.ticketmaster.com/carolina-panthers-vs-atlanta-falcons-charlotte-north-carolina-10-29-2020/event/2D005904AF0A1772', 'locale': 'en-us', 'images': [{'ratio': '16_9', 'url': 'https://s1.ticketm.net/dam/a/340/8f54cfaa-27bc-4e1d-a7ea-dd5e71782340_1325021_RECOMENDATION_16_9.jpg', 'width': 100, 'height': 56, 'fallback': False}, {'ratio': '16_9', 'url': 'https://s1.ticketm.net/dam/a/340/8f54cfaa-27bc-4e1d-a7ea-dd5e71782340_1325021_RETINA_LANDSCAPE_16_9.jpg', 'width': 1136, 'height': 639, 'fallback': False}, {'ratio': '3_2', 'url': 'https://s1.ticketm.net/dam/a/340/8f54cfaa-27bc-4e1d-a7ea-dd5e71782340_1325021_ARTIST_PAGE_3_2.jpg', 'width': 305, 'height': 203, 'fallback': False}, {'ratio': '3_2', 'url': 'https://s1.ticketm.net/dam/a/340/8f54cfaa-27bc-4e1d-a7ea-dd5e71782340_1325021_TABLET_LANDSCAPE_3_2.jpg', 'width': 1024, 'height': 683, 'fallback': False}, {'ratio': '16_9', 'url': 'https://s1.ticketm.net/dam/a/340/8f54cfaa-27bc-4e1d-a7ea-dd5e71782340_1325021_TABLET_LANDSCAPE_LARGE_16_9.jpg', 'width': 2048, 'height': 1152, 'fallback': False}, {'ratio': '16_9', 'url': 'https://s1.ticketm.net/dam/a/340/8f54cfaa-27bc-4e1d-a7ea-dd5e71782340_1325021_TABLET_LANDSCAPE_16_9.jpg', 'width': 1024, 'height': 576, 'fallback': False}, {'ratio': '3_2', 'url': 'https://s1.ticketm.net/dam/a/340/8f54cfaa-27bc-4e1d-a7ea-dd5e71782340_1325021_RETINA_PORTRAIT_3_2.jpg', 'width': 640, 'height': 427, 'fallback': False}, {'ratio': '4_3', 'url': 'https://s1.ticketm.net/dam/a/340/8f54cfaa-27bc-4e1d-a7ea-dd5e71782340_1325021_CUSTOM.jpg', 'width': 305, 'height': 225, 'fallback': False}, {'ratio': '16_9', 'url': 'https://s1.ticketm.net/dam/a/340/8f54cfaa-27bc-4e1d-a7ea-dd5e71782340_1325021_EVENT_DETAIL_PAGE_16_9.jpg', 'width': 205, 'height': 115, 'fallback': False}, {'ratio': '16_9', 'url': 'https://s1.ticketm.net/dam/a/340/8f54cfaa-27bc-4e1d-a7ea-dd5e71782340_1325021_RETINA_PORTRAIT_16_9.jpg', 'width': 640, 'height': 360, 'fallback': False}], 'sales': {'public': {'startDateTime': '2020-09-28T18:00:00Z', 'startTBD': False, 'startTBA': False, 'endDateTime': '2020-10-30T01:20:00Z'}, 'presales': [{'startDateTime': '2020-09-24T14:00:00Z', 'endDateTime': '2020-09-24T14:02:00Z', 'name': 'Resale'}]}, 'dates': {'start': {'localDate': '2020-10-29', 'localTime': '20:20:00', 'dateTime': '2020-10-30T00:20:00Z', 'dateTBD': False, 'dateTBA': False, 'timeTBA': False, 'noSpecificTime': False}, 'timezone': 'America/New_York', 'status': {'code': 'onsale'}, 'spanMultipleDays': False}, 'classifications': [{'primary': True, 'segment': {'id': 'KZFzniwnSyZfZ7v7nE', 'name': 'Sports'}, 'genre': {'id': 'KnvZfZ7vAdE', 'name': 'Football'}, 'subGenre': {'id': 'KZazBEonSMnZfZ7vFE1', 'name': 'NFL'}, 'type': {'id': 'KZAyXgnZfZ7v7l1', 'name': 'Group'}, 'subType': {'id': 'KZFzBErXgnZfZ7vA7d', 'name': 'Team'}, 'family': False}], 'promoter': {'id': '494', 'name': 'PROMOTED BY VENUE', 'description': 'PROMOTED BY VENUE / NTL / USA'}, 'promoters': [{'id': '494', 'name': 'PROMOTED BY VENUE', 'description': 'PROMOTED BY VENUE / NTL / USA'}], 'info': 'Bank of America Stadium was designed for fans of all ages. Please note that every child over the age of 12 months is required to have a game ticket to enter the stadium. Any child under the age of 12 months admitted without a ticket must share a seat with an accompanying adult.', 'priceRanges': [{'type': 'standard', 'currency': 'USD', 'min': 76.0, 'max': 528.58}], 'seatmap': {'staticUrl': 'https://maps.ticketmaster.com/maps/geometry/3/event/2D005904AF0A1772/staticImage?type=png&systemId=HOST'}, 'accessibility': {'info': 'Wheelchair Seating: Located in mulitple sections around the stadium', 'ticketLimit': 4}, 'ticketLimit': {'info': 'There is an overall 6 ticket limit for this event.'}, 'ageRestrictions': {'legalAgeEnforced': False}, '_links': {'self': {'href': '/discovery/v2/events/G5eVZp83Re-qw?locale=en-us'}, 'attractions': [{'href': '/discovery/v2/attractions/K8vZ9171oPf?locale=en-us'}, {'href': '/discovery/v2/attractions/K8vZ9171ou0?locale=en-us'}], 'venues': [{'href': '/discovery/v2/venues/KovZpa3hje?locale=en-us'}]}, '_embedded': {'venues': [{'name': 'Bank of America Stadium', 'type': 'venue', 'id': 'KovZpa3hje', 'test': False, 'url': 'https://www.ticketmaster.com/bank-of-america-stadium-tickets-charlotte/venue/368876', 'locale': 'en-us', 'images': [{'ratio': '3_1', 'url': 'https://s1.ticketm.net/dam/v/f21/6abeccb0-3aea-43cf-bec7-216a88dc0f21_378581_SOURCE.jpg', 'width': 1500, 'height': 500, 'fallback': False}, {'ratio': '16_9', 'url': 'https://s1.ticketm.net/dbimages/5692v.gif', 'width': 205, 'height': 115, 'fallback': False}], 'postalCode': '28202', 'timezone': 'America/New_York', 'city': {'name': 'Charlotte'}, 'state': {'name': 'North Carolina', 'stateCode': 'NC'}, 'country': {'name': 'United States Of America', 'countryCode': 'US'}, 'address': {'line1': '800 South Mint Street'}, 'location': {'longitude': '-80.852829', 'latitude': '35.225789'}, 'markets': [{'name': 'Charlotte', 'id': '2'}, {'name': 'South Carolina', 'id': '121'}], 'dmas': [{'id': 243}, {'id': 245}, {'id': 256}, {'id': 291}, {'id': 292}], 'boxOfficeInfo': {'phoneNumberDetail': 'Carolina Panthers box office - (704) 358-7800', 'openHoursDetail': 'Open Mon-Fri 8:30am-5:30pm Opens 2 Hours Prior To Game Time Located at the Southeast corner between South and East Gates', 'acceptedPaymentDetail': 'Advance sales - Cash, Visa, MCGame days - Cash only', 'willCallDetail': 'Open 4 hours prior to game time. Located at box office-southeast corner PLEASE BRING A PICTURE ID, THE ACTUAL CREDIT CARD USED TO PURCHASE THE TICKETS, AND YOUR ORDER NUMBER.'}, 'parkingDetail': 'Public and private parking available throughout the uptown Charlotte area. Rates vary according to proximity to the stadium.', 'accessibleSeatingDetail': 'This venue is accessible.', 'generalInfo': {'generalRule': '-NO Weapons (weapons with permits are not allowed) -NO Illegal Drugs -NO Alcoholic Beverages -NO Food or Beverages -NO Fireworks or Explosives -NO Pets - except service animals assisting those with disabilities -NO Folding chairs -NO Noise makers, horns, helium balloons and beach balls -NO Laser pointers -NO Coolers -NO Umbrellas -NO Videocameras -NO Backpacks -NO Baby Strollers -NO Dufflebags', 'childRule': 'Chilren age one year (12 months) and up must have a ticket'}, 'upcomingEvents': {'_total': 20, 'ticketmaster': 20}, '_links': {'self': {'href': '/discovery/v2/venues/KovZpa3hje?locale=en-us'}}}], 'attractions': [{'name': 'Carolina Panthers', 'type': 'attraction', 'id': 'K8vZ9171oPf', 'test': False, 'url': 'https://www.ticketmaster.com/carolina-panthers-tickets/artist/805909', 'locale': 'en-us', 'images': [{'ratio': '16_9', 'url': 'https://s1.ticketm.net/dam/a/340/8f54cfaa-27bc-4e1d-a7ea-dd5e71782340_1325021_RECOMENDATION_16_9.jpg', 'width': 100, 'height': 56, 'fallback': False}, {'ratio': '16_9', 'url': 'https://s1.ticketm.net/dam/a/340/8f54cfaa-27bc-4e1d-a7ea-dd5e71782340_1325021_RETINA_LANDSCAPE_16_9.jpg', 'width': 1136, 'height': 639, 'fallback': False}, {'ratio': '3_2', 'url': 'https://s1.ticketm.net/dam/a/340/8f54cfaa-27bc-4e1d-a7ea-dd5e71782340_1325021_ARTIST_PAGE_3_2.jpg', 'width': 305, 'height': 203, 'fallback': False}, {'ratio': '3_2', 'url': 'https://s1.ticketm.net/dam/a/340/8f54cfaa-27bc-4e1d-a7ea-dd5e71782340_1325021_TABLET_LANDSCAPE_3_2.jpg', 'width': 1024, 'height': 683, 'fallback': False}, {'ratio': '16_9', 'url': 'https://s1.ticketm.net/dam/a/340/8f54cfaa-27bc-4e1d-a7ea-dd5e71782340_1325021_TABLET_LANDSCAPE_LARGE_16_9.jpg', 'width': 2048, 'height': 1152, 'fallback': False}, {'ratio': '16_9', 'url': 'https://s1.ticketm.net/dam/a/340/8f54cfaa-27bc-4e1d-a7ea-dd5e71782340_1325021_TABLET_LANDSCAPE_16_9.jpg', 'width': 1024, 'height': 576, 'fallback': False}, {'ratio': '3_2', 'url': 'https://s1.ticketm.net/dam/a/340/8f54cfaa-27bc-4e1d-a7ea-dd5e71782340_1325021_RETINA_PORTRAIT_3_2.jpg', 'width': 640, 'height': 427, 'fallback': False}, {'ratio': '4_3', 'url': 'https://s1.ticketm.net/dam/a/340/8f54cfaa-27bc-4e1d-a7ea-dd5e71782340_1325021_CUSTOM.jpg', 'width': 305, 'height': 225, 'fallback': False}, {'ratio': '16_9', 'url': 'https://s1.ticketm.net/dam/a/340/8f54cfaa-27bc-4e1d-a7ea-dd5e71782340_1325021_EVENT_DETAIL_PAGE_16_9.jpg', 'width': 205, 'height': 115, 'fallback': False}, {'ratio': '16_9', 'url': 'https://s1.ticketm.net/dam/a/340/8f54cfaa-27bc-4e1d-a7ea-dd5e71782340_1325021_RETINA_PORTRAIT_16_9.jpg', 'width': 640, 'height': 360, 'fallback': False}], 'classifications': [{'primary': True, 'segment': {'id': 'KZFzniwnSyZfZ7v7nE', 'name': 'Sports'}, 'genre': {'id': 'KnvZfZ7vAdE', 'name': 'Football'}, 'subGenre': {'id': 'KZazBEonSMnZfZ7vFE1', 'name': 'NFL'}, 'type': {'id': 'KZAyXgnZfZ7v7l1', 'name': 'Group'}, 'subType': {'id': 'KZFzBErXgnZfZ7vA7d', 'name': 'Team'}, 'family': False}], 'upcomingEvents': {'_total': 6, 'ticketmaster': 6}, '_links': {'self': {'href': '/discovery/v2/attractions/K8vZ9171oPf?locale=en-us'}}}, {'name': 'Atlanta Falcons', 'type': 'attraction', 'id': 'K8vZ9171ou0', 'test': False, 'url': 'https://www.ticketmaster.com/atlanta-falcons-tickets/artist/805897', 'locale': 'en-us', 'images': [{'ratio': '3_2', 'url': 'https://s1.ticketm.net/dam/a/cc3/b7603d04-66ea-478c-9f00-d21630adacc3_1324961_TABLET_LANDSCAPE_3_2.jpg', 'width': 1024, 'height': 683, 'fallback': False}, {'ratio': '16_9', 'url': 'https://s1.ticketm.net/dam/a/cc3/b7603d04-66ea-478c-9f00-d21630adacc3_1324961_TABLET_LANDSCAPE_16_9.jpg', 'width': 1024, 'height': 576, 'fallback': False}, {'ratio': '3_2', 'url': 'https://s1.ticketm.net/dam/a/cc3/b7603d04-66ea-478c-9f00-d21630adacc3_1324961_ARTIST_PAGE_3_2.jpg', 'width': 305, 'height': 203, 'fallback': False}, {'ratio': '16_9', 'url': 'https://s1.ticketm.net/dam/a/cc3/b7603d04-66ea-478c-9f00-d21630adacc3_1324961_EVENT_DETAIL_PAGE_16_9.jpg', 'width': 205, 'height': 115, 'fallback': False}, {'ratio': '4_3', 'url': 'https://s1.ticketm.net/dam/a/cc3/b7603d04-66ea-478c-9f00-d21630adacc3_1324961_CUSTOM.jpg', 'width': 305, 'height': 225, 'fallback': False}, {'ratio': '16_9', 'url': 'https://s1.ticketm.net/dam/a/cc3/b7603d04-66ea-478c-9f00-d21630adacc3_1324961_RETINA_PORTRAIT_16_9.jpg', 'width': 640, 'height': 360, 'fallback': False}, {'ratio': '16_9', 'url': 'https://s1.ticketm.net/dam/a/cc3/b7603d04-66ea-478c-9f00-d21630adacc3_1324961_RECOMENDATION_16_9.jpg', 'width': 100, 'height': 56, 'fallback': False}, {'ratio': '16_9', 'url': 'https://s1.ticketm.net/dam/a/cc3/b7603d04-66ea-478c-9f00-d21630adacc3_1324961_RETINA_LANDSCAPE_16_9.jpg', 'width': 1136, 'height': 639, 'fallback': False}, {'ratio': '3_2', 'url': 'https://s1.ticketm.net/dam/a/cc3/b7603d04-66ea-478c-9f00-d21630adacc3_1324961_RETINA_PORTRAIT_3_2.jpg', 'width': 640, 'height': 427, 'fallback': False}, {'ratio': '16_9', 'url': 'https://s1.ticketm.net/dam/a/cc3/b7603d04-66ea-478c-9f00-d21630adacc3_1324961_TABLET_LANDSCAPE_LARGE_16_9.jpg', 'width': 2048, 'height': 1152, 'fallback': False}], 'classifications': [{'primary': True, 'segment': {'id': 'KZFzniwnSyZfZ7v7nE', 'name': 'Sports'}, 'genre': {'id': 'KnvZfZ7vAdE', 'name': 'Football'}, 'subGenre': {'id': 'KZazBEonSMnZfZ7vFE1', 'name': 'NFL'}, 'type': {'id': 'KZAyXgnZfZ7v7l1', 'name': 'Group'}, 'subType': {'id': 'KZFzBErXgnZfZ7vA7d', 'name': 'Team'}, 'family': False}], 'upcomingEvents': {'_total': 6, 'ticketmaster': 6}, '_links': {'self': {'href': '/discovery/v2/attractions/K8vZ9171ou0?locale=en-us'}}}]}}]}, '_links': {'first': {'href': '/discovery/v2/events.json?page=0&size=1'}, 'self': {'href': '/discovery/v2/events.json?size=1'}, 'next': {'href': '/discovery/v2/events.json?page=1&size=1'}, 'last': {'href': '/discovery/v2/events.json?page=74114&size=1'}}, 'page': {'size': 1, 'totalElements': 74115, 'totalPages': 74115, 'number': 0}}\n"
     ]
    }
   ],
   "source": [
    "test_url = f'https://app.ticketmaster.com/discovery/v2/events.json?size=1&apikey={my_key}'\n",
    "print(test_url)\n",
    "ticketR=requests.get(test_url)\n",
    "print(ticketR.status_code)\n",
    "ticketmaster_json=ticketR.json()\n",
    "\n",
    "print(ticketmaster_json)\n",
    "\n"
   ]
  },
  {
   "cell_type": "code",
   "execution_count": null,
   "metadata": {},
   "outputs": [],
   "source": []
  }
 ],
 "metadata": {
  "kernelspec": {
   "display_name": "Python 3",
   "language": "python",
   "name": "python3"
  },
  "language_info": {
   "codemirror_mode": {
    "name": "ipython",
    "version": 3
   },
   "file_extension": ".py",
   "mimetype": "text/x-python",
   "name": "python",
   "nbconvert_exporter": "python",
   "pygments_lexer": "ipython3",
   "version": "3.8.3"
  }
 },
 "nbformat": 4,
 "nbformat_minor": 4
}
